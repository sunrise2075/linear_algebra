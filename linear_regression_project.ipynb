{
 "cells": [
  {
   "cell_type": "markdown",
   "metadata": {},
   "source": [
    "# 1 矩阵运算\n",
    "\n",
    "## 1.1 创建一个 4*4 的单位矩阵"
   ]
  },
  {
   "cell_type": "code",
   "execution_count": 105,
   "metadata": {
    "collapsed": true
   },
   "outputs": [],
   "source": [
    "# 这个项目设计来帮你熟悉 python list 和线性代数\n",
    "# 你不能调用任何python库，包括NumPy，来完成作业\n",
    "\n",
    "A = [[1,2,3], \n",
    "     [2,3,3], \n",
    "     [1,2,5]]\n",
    "\n",
    "B = [[1,2,3,5], \n",
    "     [2,3,3,5], \n",
    "     [1,2,5,1]]\n",
    "\n",
    "#TODO 创建一个 4*4 单位矩阵\n",
    "I = [\n",
    "    [1,0,0,0],\n",
    "    [0,1,0,0],\n",
    "    [0,0,1,0],\n",
    "    [0,0,0,1]\n",
    "]"
   ]
  },
  {
   "cell_type": "markdown",
   "metadata": {},
   "source": [
    "## 1.2 返回矩阵的行数和列数"
   ]
  },
  {
   "cell_type": "code",
   "execution_count": 106,
   "metadata": {},
   "outputs": [
    {
     "name": "stdout",
     "output_type": "stream",
     "text": [
      "[[0, 0, 0, 0, 0], [0, 0, 0, 0, 0], [0, 0, 0, 0, 0], [0, 0, 0, 0, 0], [0, 0, 0, 0, 0]]\n"
     ]
    }
   ],
   "source": [
    "# TODO 返回矩阵的行数和列数\n",
    "def shape(M):\n",
    "    return len(M),len(M[0])\n",
    "\n",
    "# 创造一个行数m，列数n的零矩阵\n",
    "def create_0_matrix(m, n):\n",
    "    result = []\n",
    "    for i in range(0,m):\n",
    "        row_list = []\n",
    "        for j in range(0, n):\n",
    "            row_list.append(0)\n",
    "        result.append(row_list)\n",
    "    return result\n",
    "        \n",
    "print (create_0_matrix(5,5))  \n",
    "    "
   ]
  },
  {
   "cell_type": "markdown",
   "metadata": {},
   "source": [
    "## 1.3 每个元素四舍五入到特定小数数位"
   ]
  },
  {
   "cell_type": "code",
   "execution_count": 107,
   "metadata": {
    "collapsed": true
   },
   "outputs": [],
   "source": [
    "# TODO 每个元素四舍五入到特定小数数位\n",
    "# 直接修改参数矩阵，无返回值\n",
    "\n",
    "def matxRound(M, decPts=4):\n",
    "    for i in range(0, len(M)):\n",
    "        row = M[i]\n",
    "        for j in range(0, len(row)):\n",
    "            row[j] = round(row[j], decPts)\n"
   ]
  },
  {
   "cell_type": "markdown",
   "metadata": {},
   "source": [
    "## 1.4 计算矩阵的转置"
   ]
  },
  {
   "cell_type": "code",
   "execution_count": 108,
   "metadata": {
    "collapsed": true
   },
   "outputs": [],
   "source": [
    "# TODO 计算矩阵的转置\n",
    "# 此方法返回一个新矩阵\n",
    "def transpose(M):\n",
    "    # 计算矩阵形状\n",
    "    row_num, col_num = shape(M)\n",
    "    N = create_0_matrix(col_num, row_num)\n",
    "    for i in range(0, len(M)):\n",
    "        for j in range(0,len(M[i])):\n",
    "            N[j][i] = M[i][j]       \n",
    "    return N"
   ]
  },
  {
   "cell_type": "markdown",
   "metadata": {},
   "source": [
    "## 1.5 计算矩阵乘法 AB"
   ]
  },
  {
   "cell_type": "code",
   "execution_count": 109,
   "metadata": {
    "collapsed": true
   },
   "outputs": [],
   "source": [
    "# TODO 计算矩阵乘法 AB，如果无法相乘则返回None\n",
    "def matxMultiply(A, B):\n",
    "    # 计算矩阵形状\n",
    "    row_num_of_A, col_num_of_A = shape(A)\n",
    "    row_num_of_B, col_num_of_B = shape(B)\n",
    "    \n",
    "    if col_num_of_A == row_num_of_B:\n",
    "        #根据矩阵乘法公式生成新的结果矩阵\n",
    "        result = create_0_matrix(row_num_of_A,col_num_of_B)\n",
    "        for i in range(0,row_num_of_A):\n",
    "            for j in range(0,col_num_of_B):\n",
    "                for k in range(0, col_num_of_A):\n",
    "                    result[i][j] = result[i][j] + A[i][k]*B[k][j]        \n",
    "    else:\n",
    "        return False\n",
    "    return result"
   ]
  },
  {
   "cell_type": "markdown",
   "metadata": {},
   "source": [
    "## 1.6 测试你的函数是否实现正确"
   ]
  },
  {
   "cell_type": "markdown",
   "metadata": {},
   "source": [
    "**提示：** 你可以用`from pprint import pprint`来更漂亮的打印数据，详见[用法示例](http://cn-static.udacity.com/mlnd/images/pprint.png)和[文档说明](https://docs.python.org/2/library/pprint.html#pprint.pprint)。"
   ]
  },
  {
   "cell_type": "code",
   "execution_count": 110,
   "metadata": {},
   "outputs": [
    {
     "name": "stdout",
     "output_type": "stream",
     "text": [
      "[[1, 2, 3, 5], [2, 3, 3, 5], [1, 2, 5, 1]]\n",
      "(3, 4)\n",
      "------------------------------------------------------\n",
      "[[1.0, 2.0, 3.0, 4.0404, 5.5556, 6.1616]]\n",
      "------------------------------------------------------\n",
      "[[1, 2, 1], [2, 3, 2], [3, 3, 5], [5, 5, 1]]\n",
      "[[1, 2, 3, 5], [2, 3, 3, 5], [1, 2, 5, 1]]\n",
      "------------------------------------------------------\n",
      "[[8, 14, 24, 18], [11, 19, 30, 28], [10, 18, 34, 20]]\n"
     ]
    }
   ],
   "source": [
    "import pprint\n",
    "pp = pprint.PrettyPrinter(indent=1, width=70)\n",
    "\n",
    "#TODO 测试1.2 返回矩阵的行和列\n",
    "pp.pprint(B)\n",
    "print(shape(B))\n",
    "\n",
    "print('------------------------------------------------------')\n",
    "#TODO 测试1.3 每个元素四舍五入到特定小数数位\n",
    "c = [[1.000001, 2.000002, 3.0000003, 4.0404040404040, 5.555555555, 6.1616161616]]\n",
    "matxRound(c)\n",
    "pp.pprint(c)\n",
    "print('------------------------------------------------------')\n",
    "\n",
    "#TODO 测试1.4 计算矩阵的转置\n",
    "b = transpose(B)\n",
    "pp.pprint(b)\n",
    "bb = transpose(b)\n",
    "pp.pprint(bb)\n",
    "print('------------------------------------------------------')\n",
    "#TODO 测试1.5 计算矩阵乘法AB，AB无法相乘\n",
    "p = matxMultiply(A, B)\n",
    "pp.pprint(p)\n"
   ]
  },
  {
   "cell_type": "markdown",
   "metadata": {},
   "source": [
    "# 2 Gaussign Jordan 消元法\n",
    "\n",
    "## 2.1 构造增广矩阵\n",
    "\n",
    "$ A = \\begin{bmatrix}\n",
    "    a_{11}    & a_{12} & ... & a_{1n}\\\\\n",
    "    a_{21}    & a_{22} & ... & a_{2n}\\\\\n",
    "    a_{31}    & a_{22} & ... & a_{3n}\\\\\n",
    "    ...    & ... & ... & ...\\\\\n",
    "    a_{n1}    & a_{n2} & ... & a_{nn}\\\\\n",
    "\\end{bmatrix} , b = \\begin{bmatrix}\n",
    "    b_{1}  \\\\\n",
    "    b_{2}  \\\\\n",
    "    b_{3}  \\\\\n",
    "    ...    \\\\\n",
    "    b_{n}  \\\\\n",
    "\\end{bmatrix}$\n",
    "\n",
    "返回 $ Ab = \\begin{bmatrix}\n",
    "    a_{11}    & a_{12} & ... & a_{1n} & b_{1}\\\\\n",
    "    a_{21}    & a_{22} & ... & a_{2n} & b_{2}\\\\\n",
    "    a_{31}    & a_{22} & ... & a_{3n} & b_{3}\\\\\n",
    "    ...    & ... & ... & ...& ...\\\\\n",
    "    a_{n1}    & a_{n2} & ... & a_{nn} & b_{n} \\end{bmatrix}$"
   ]
  },
  {
   "cell_type": "code",
   "execution_count": 111,
   "metadata": {
    "collapsed": true
   },
   "outputs": [],
   "source": [
    "# TODO 构造增广矩阵，假设A，b行数相同\n",
    "def augmentMatrix(A, b):\n",
    "    # calculate the shape of matrix A\n",
    "    row_num, col_num = shape(A)\n",
    "    # 此处b并非一个简单的一维链表\n",
    "    result =[]\n",
    "    for i in range(0, row_num):\n",
    "        new_row = []\n",
    "        for j in range(0 , col_num):\n",
    "            new_row.append(A[i][j])\n",
    "        new_row.append(b[i][0])\n",
    "        result.append(new_row)\n",
    "    return result\n"
   ]
  },
  {
   "cell_type": "markdown",
   "metadata": {},
   "source": [
    "## 2.2 初等行变换\n",
    "- 交换两行\n",
    "- 把某行乘以一个非零常数\n",
    "- 把某行加上另一行的若干倍："
   ]
  },
  {
   "cell_type": "code",
   "execution_count": null,
   "metadata": {
    "collapsed": true
   },
   "outputs": [],
   "source": [
    "# TODO r1 <---> r2\n",
    "# 直接修改参数矩阵，无返回值\n",
    "def swapRows(M, r1, r2):\n",
    "    row_list_1 , row_list_2 = M[r1], M[r2]\n",
    "    M[r1], M[r2] = row_list_2, row_list_1\n",
    "    \n",
    "\n",
    "# TODO r1 <--- r1 * scale， scale!=0\n",
    "# 直接修改参数矩阵，无返回值\n",
    "def scaleRow(M, r, scale):\n",
    "    if scale ==0:\n",
    "        raise ValueError('The parameter Scale cannot be zero')\n",
    "    M[r] = [ x*scale for x in  M[r]]\n",
    "    \n",
    "\n",
    "# TODO r1 <--- r1 + r2*scale\n",
    "# 直接修改参数矩阵，无返回值\n",
    "def addScaledRow(M, r1, r2, scale):\n",
    "    row_num, col_num = shape(M)    \n",
    "    scaled_r2_row =[ x*scale for x in  M[r2]]\n",
    "    r1_row = M[r1]\n",
    "    lists_of_lists = [ r1_row, scaled_r2_row]\n",
    "    M[r1] = [sum(x) for x in zip(*lists_of_lists)]\n",
    "    "
   ]
  },
  {
   "cell_type": "markdown",
   "metadata": {},
   "source": [
    "## 2.3  Gaussian Jordan 消元法求解 Ax = b"
   ]
  },
  {
   "cell_type": "markdown",
   "metadata": {},
   "source": [
    "### 提示：\n",
    "\n",
    "步骤1 检查A，b是否行数相同\n",
    "\n",
    "步骤2 构造增广矩阵Ab\n",
    "\n",
    "步骤3 逐列转换Ab为化简行阶梯形矩阵 [中文维基链接](https://zh.wikipedia.org/wiki/%E9%98%B6%E6%A2%AF%E5%BD%A2%E7%9F%A9%E9%98%B5#.E5.8C.96.E7.AE.80.E5.90.8E.E7.9A.84-.7Bzh-hans:.E8.A1.8C.3B_zh-hant:.E5.88.97.3B.7D-.E9.98.B6.E6.A2.AF.E5.BD.A2.E7.9F.A9.E9.98.B5)\n",
    "    \n",
    "    对于Ab的每一列（最后一列除外）\n",
    "        当前列为列c\n",
    "        寻找列c中 对角线以及对角线以下所有元素（行 c~N）的绝对值的最大值\n",
    "        如果绝对值最大值为0\n",
    "            那么A为奇异矩阵，返回None （请在问题2.4中证明该命题）\n",
    "        否则\n",
    "            使用第一个行变换，将绝对值最大值所在行交换到对角线元素所在行（行c） \n",
    "            使用第二个行变换，将列c的对角线元素缩放为1\n",
    "            多次使用第三个行变换，将列c的其他元素消为0\n",
    "            \n",
    "步骤4 返回Ab的最后一列\n",
    "\n",
    "### 注：\n",
    "我们并没有按照常规方法先把矩阵转化为行阶梯形矩阵，再转换为化简行阶梯形矩阵，而是一步到位。如果你熟悉常规方法的话，可以思考一下两者的等价性。"
   ]
  },
  {
   "cell_type": "code",
   "execution_count": null,
   "metadata": {
    "collapsed": true
   },
   "outputs": [],
   "source": [
    "# TODO 实现 Gaussain Jordan 方法求解 Ax = b\n",
    "\n",
    "\"\"\" Gaussian Jordan 方法求解 Ax = b.\n",
    "    参数\n",
    "        A: 方阵 \n",
    "        b: 列向量\n",
    "        decPts: 四舍五入位数，默认为4\n",
    "        epsilon: 判读是否为0的阈值，默认 1.0e-16\n",
    "        \n",
    "    返回列向量 x 使得 Ax = b \n",
    "    返回None，如果 A，b 高度不同\n",
    "    返回None，如果 A 为奇异矩阵\n",
    "\"\"\"     \n",
    "\n",
    "\n",
    "def gj_Solve(A, b, decPts=4, epsilon = 1.0e-16):\n",
    "    \n",
    "    row_num_A, col_num_A = shape(A)\n",
    "    row_num_b, col_num_b =shape(b)\n",
    "    if row_num_A == row_num_b:\n",
    "        mtx = augmentMatrix(A, b)\n",
    "        mtx_row_no, mtx_col_no = shape(mtx)\n",
    "        \n",
    "        #遍历过程不考虑增广矩阵最后一列\n",
    "        for cur_col in range(0, mtx_col_no-1):\n",
    "            #假设当前列对角线及以下元素最大绝对值位于第一行：下标为0\n",
    "            #print(\"开始处理增广矩阵，当前列的下标是:{0}\".format(cur_col))\n",
    "            \n",
    "            diagonal_ele_row_no = cur_col\n",
    "            diagonal_ele_col_no = cur_col\n",
    "            # 假设当前列对角线元素的下一个元素的绝对值最大\n",
    "            max_abs_row_no = diagonal_ele_row_no\n",
    "            # 从当前列的对角线元素的下一个元素开始遍历\n",
    "            for tmp_row_no in range(diagonal_ele_row_no+1,mtx_row_no):\n",
    "                diff = abs(mtx[tmp_row_no][cur_col])- abs(mtx[max_abs_row_no][cur_col])\n",
    "                # 如果当前行的绝对值更大\n",
    "                if diff > epsilon:\n",
    "                    # 把最大值交换到对角线上, 为交换两行的内容做准备\n",
    "                    max_abs_row_no = tmp_row_no\n",
    "            \n",
    "            # 如果矩阵A 满足奇异矩阵的条件\n",
    "            if abs(mtx[max_abs_row_no][diagonal_ele_col_no]) <= epsilon:\n",
    "                # 返回None\n",
    "                return None\n",
    "            \n",
    "            # 当矩阵A不是奇异矩阵的时候\n",
    "            else:\n",
    "                # 使用第一个行变换，将绝对值最大值所在行交换到对角线元素所在行（行c）\n",
    "                #print(\"使用第一个行变换，将绝对值最大值所在行交换到对角线元素所在行（行c）之前\")\n",
    "                #print(mtx)\n",
    "                swapRows(mtx, max_abs_row_no, diagonal_ele_row_no)\n",
    "                #print(\"使用第一个行变换，将绝对值最大值所在行交换到对角线元素所在行（行c）之后\")\n",
    "                #print(mtx)\n",
    "                # 使用第二个行变换，将列c的对角线元素缩放为1\n",
    "                #print(\"使用第二个行变换，将列c的对角线元素缩放为1之前:\")\n",
    "                #print(mtx)\n",
    "                scale = 1.0/mtx[diagonal_ele_row_no][diagonal_ele_col_no]\n",
    "                scaleRow(mtx, diagonal_ele_row_no, scale)\n",
    "                #print(\"使用第二个行变换，将列c的对角线元素缩放为1之后:\")\n",
    "                #print(mtx)\n",
    "                # 遍历当前列对角线元素以外的各个元素\n",
    "                # 多次使用第三个行变换，将当前列c的其他元素消为0\n",
    "                for tmp_row_no in range(0, mtx_row_no):\n",
    "                    # 对角线上的元素不需要消为0\n",
    "                    if tmp_row_no == diagonal_ele_row_no:\n",
    "                        continue\n",
    "                    diagonal_ele = mtx[diagonal_ele_row_no][diagonal_ele_col_no]\n",
    "                    cur_row_ele = mtx[tmp_row_no][cur_col]\n",
    "                    scale = -1.0 * (cur_row_ele/diagonal_ele)\n",
    "                    #print(\"使用第三个行变换，将当前列c的其他元素消为0之前:\")\n",
    "                    #print(mtx)\n",
    "                    addScaledRow(mtx, tmp_row_no, diagonal_ele_row_no, scale)\n",
    "                    #print(\"使用第三个行变换，将当前列c的其他元素消为0之后:\")\n",
    "                    #print(mtx)\n",
    "            \n",
    "        \n",
    "        #整个增广矩阵遍历完毕，可以返回以矩阵最后一列为向量的最终结果了\n",
    "        result = []\n",
    "        for tmp_row_no in range(0, mtx_row_no):\n",
    "            val = mtx[tmp_row_no][-1]\n",
    "            result.append(round(val, decPts))\n",
    "        return result\n",
    "                \n",
    "            \n",
    "    \n",
    "    return None"
   ]
  },
  {
   "cell_type": "markdown",
   "metadata": {},
   "source": [
    "## 2.4 证明下面的命题：\n",
    "\n",
    "**如果方阵 A 可以被分为4个部分: ** \n",
    "\n",
    "$ A = \\begin{bmatrix}\n",
    "    I    & X \\\\\n",
    "    Z    & Y \\\\\n",
    "\\end{bmatrix} , \\text{其中 I 为单位矩阵，Z 为全0矩阵，Y 的第一列全0}$，\n",
    "\n",
    "**那么A为奇异矩阵。**\n",
    "\n",
    "提示：从多种角度都可以完成证明\n",
    "- 考虑矩阵 Y 和 矩阵 A 的秩\n",
    "- 考虑矩阵 Y 和 矩阵 A 的行列式\n",
    "- 考虑矩阵 A 的某一列是其他列的线性组合"
   ]
  },
  {
   "cell_type": "markdown",
   "metadata": {},
   "source": [
    "TODO 请使用 latex （请参照题目的 latex 写法学习）\n",
    "\n",
    "TODO 证明：\n",
    "\n",
    "由于I为单位矩阵，\n",
    "\n",
    "所以 det(I) = 1\n",
    "\n",
    "由于Y矩阵第一列为0，\n",
    "\n",
    "所以 det(Y) = 0\n",
    "\n",
    "det(A) = det(I)\\* det(Y) = 1 \\* 0 = 0\n",
    "\n",
    "所以 A 是奇异矩阵\n"
   ]
  },
  {
   "cell_type": "markdown",
   "metadata": {},
   "source": [
    "## 2.5 测试 gj_Solve() 实现是否正确"
   ]
  },
  {
   "cell_type": "code",
   "execution_count": null,
   "metadata": {},
   "outputs": [],
   "source": [
    "# TODO 构造 矩阵A，列向量b，其中 A 为奇异矩阵\n",
    "def test_my_gj_Solve(text, A, b):\n",
    "    print(text)\n",
    "    result = gj_Solve(A, b)\n",
    "    print(\"The result of gj_Solve:\")\n",
    "    print(result)\n",
    "    print(\"测试结束！\")\n",
    "    print(\"------------------------------\")\n",
    "\n",
    "# 测试代码部分开始\n",
    "print(\"Test Case 00：\")\n",
    "A = [\n",
    "    [1, 1, 2],\n",
    "    [0, 0, 3],\n",
    "    [4, 0, 7]\n",
    "]\n",
    "\n",
    "b = [\n",
    "    [10],\n",
    "    [8]\n",
    "]\n",
    "\n",
    "test_my_gj_Solve(\"When A is a singular matrix\", A, b)\n",
    "\n",
    "# TODO 构造 矩阵A，列向量b，其中 A 为非奇异矩阵\n",
    "# 两个例子来自于下面的网页地址: \n",
    "# http://pages.pacificcoast.net/~cazelais/251/gauss-jordan.pdf\n",
    "print(\"Test Case 01:\")\n",
    "A = [\n",
    "    [1, 1, 1],\n",
    "    [2, 3, 5],\n",
    "    [4, 0, 5]\n",
    "] \n",
    "\n",
    "b = [\n",
    "    [5],\n",
    "    [8],\n",
    "    [2]\n",
    "]\n",
    "test_my_gj_Solve(\"When A is a singular matrix\", A, b)\n",
    "\n",
    "# TODO 构造 矩阵A，列向量b，其中 A 为非奇异矩阵\n",
    "print(\"Test Case 02:\")\n",
    "A = [\n",
    "    [1, 1, 2, 0],\n",
    "    [2, -1, 0, 1],\n",
    "    [1, -1, -1, -2],\n",
    "    [2, -1, 2, -1]\n",
    "] \n",
    "\n",
    "b = [\n",
    "    [1],\n",
    "    [-2],\n",
    "    [4],\n",
    "    [0]\n",
    "]\n",
    "\n",
    "test_my_gj_Solve(\"When A is not a singular matrix\", A, b)\n",
    "# TODO 求解 x 使得 Ax = b\n",
    "# TODO 计算 Ax\n",
    "# TODO 比较 Ax 与 b"
   ]
  },
  {
   "cell_type": "markdown",
   "metadata": {},
   "source": [
    "# 3 线性回归: \n",
    "\n",
    "## 3.1 计算损失函数相对于参数的导数 (两个3.1 选做其一)\n",
    "\n",
    "我们定义损失函数 E ：\n",
    "$$\n",
    "E = \\sum_{i=1}^{n}{(y_i - mx_i - b)^2}\n",
    "$$\n",
    "\n",
    "证明：\n",
    "$$\n",
    "\\frac{\\partial E}{\\partial m} = \\sum_{i=1}^{n}{-2x_i(y_i - mx_i - b)}\n",
    "$$\n",
    "\n",
    "$$\n",
    "\\frac{\\partial E}{\\partial b} = \\sum_{i=1}^{n}{-2(y_i - mx_i - b)}\n",
    "$$\n",
    "\n",
    "$$\n",
    "\\begin{bmatrix}\n",
    "    \\frac{\\partial E}{\\partial m} \\\\\n",
    "    \\frac{\\partial E}{\\partial b} \n",
    "\\end{bmatrix} = 2X^TXh - 2X^TY\n",
    "$$\n",
    "\n",
    "$$ \n",
    "\\text{其中 }\n",
    "Y =  \\begin{bmatrix}\n",
    "    y_1 \\\\\n",
    "    y_2 \\\\\n",
    "    ... \\\\\n",
    "    y_n\n",
    "\\end{bmatrix}\n",
    ",\n",
    "X =  \\begin{bmatrix}\n",
    "    x_1 & 1 \\\\\n",
    "    x_2 & 1\\\\\n",
    "    ... & ...\\\\\n",
    "    x_n & 1 \\\\\n",
    "\\end{bmatrix},\n",
    "h =  \\begin{bmatrix}\n",
    "    m \\\\\n",
    "    b \\\\\n",
    "\\end{bmatrix}\n",
    "$$"
   ]
  },
  {
   "cell_type": "markdown",
   "metadata": {},
   "source": [
    "TODO 请使用 latex （参照题目的 latex写法学习）\n",
    "\n",
    "TODO 证明："
   ]
  },
  {
   "cell_type": "markdown",
   "metadata": {},
   "source": [
    "## 3.1 计算损失函数相对于参数的导数（两个3.1 选做其一）\n",
    "\n",
    "证明：\n",
    "\n",
    "$$\n",
    "E = Y^TY -2(Xh)^TY + (Xh)^TXh\n",
    "$$ \n",
    "\n",
    "$$\n",
    "\\begin{bmatrix}\n",
    "    \\frac{\\partial E}{\\partial m} \\\\\n",
    "    \\frac{\\partial E}{\\partial b} \n",
    "\\end{bmatrix}  = \\frac{\\partial E}{\\partial h} = 2X^TXh - 2X^TY\n",
    "$$\n",
    "\n",
    "$$ \n",
    "\\text{其中 }\n",
    "Y =  \\begin{bmatrix}\n",
    "    y_1 \\\\\n",
    "    y_2 \\\\\n",
    "    ... \\\\\n",
    "    y_n\n",
    "\\end{bmatrix}\n",
    ",\n",
    "X =  \\begin{bmatrix}\n",
    "    x_1 & 1 \\\\\n",
    "    x_2 & 1\\\\\n",
    "    ... & ...\\\\\n",
    "    x_n & 1 \\\\\n",
    "\\end{bmatrix},\n",
    "h =  \\begin{bmatrix}\n",
    "    m \\\\\n",
    "    b \\\\\n",
    "\\end{bmatrix}\n",
    "$$"
   ]
  },
  {
   "cell_type": "markdown",
   "metadata": {},
   "source": [
    "TODO 请使用 latex （请参照题目的 latex 写法学习）\n",
    "\n",
    "TODO 证明："
   ]
  },
  {
   "cell_type": "markdown",
   "metadata": {},
   "source": [
    "## 3.2  线性回归\n",
    "\n",
    "### 求解方程 $X^TXh = X^TY $, 计算线性回归的最佳参数 h"
   ]
  },
  {
   "cell_type": "code",
   "execution_count": null,
   "metadata": {
    "collapsed": true
   },
   "outputs": [],
   "source": [
    "# TODO 实现线性回归\n",
    "'''\n",
    "参数：(x,y) 二元组列表\n",
    "返回：m，b\n",
    "'''\n",
    "def linearRegression(points):\n",
    "    return 0,0"
   ]
  },
  {
   "cell_type": "markdown",
   "metadata": {},
   "source": [
    "## 3.3 测试你的线性回归实现"
   ]
  },
  {
   "cell_type": "code",
   "execution_count": null,
   "metadata": {
    "collapsed": true
   },
   "outputs": [],
   "source": [
    "# TODO 构造线性函数\n",
    "\n",
    "# TODO 构造 100 个线性函数上的点，加上适当的高斯噪音\n",
    "import random\n",
    "\n",
    "#TODO 对这100个点进行线性回归，将线性回归得到的函数和原线性函数比较"
   ]
  },
  {
   "cell_type": "markdown",
   "metadata": {},
   "source": [
    "## 4.1 单元测试\n",
    "\n",
    "请确保你的实现通过了以下所有单元测试。"
   ]
  },
  {
   "cell_type": "code",
   "execution_count": null,
   "metadata": {
    "scrolled": false
   },
   "outputs": [],
   "source": [
    "import unittest\n",
    "import numpy as np\n",
    "\n",
    "from decimal import *\n",
    "\n",
    "class LinearRegressionTestCase(unittest.TestCase):\n",
    "    \"\"\"Test for linear regression project\"\"\"\n",
    "\n",
    "    def test_shape(self):\n",
    "\n",
    "        for _ in range(10):\n",
    "            r,c = np.random.randint(low=1,high=25,size=2)\n",
    "            matrix = np.random.randint(low=-10,high=10,size=(r,c))\n",
    "            self.assertEqual(shape(matrix.tolist()),(r,c))\n",
    "\n",
    "\n",
    "    def test_matxRound(self):\n",
    "\n",
    "        for decpts in range(10):\n",
    "            r,c = np.random.randint(low=1,high=25,size=2)\n",
    "            matrix = np.random.random((r,c))\n",
    "\n",
    "            mat = matrix.tolist()\n",
    "            dec_true = [[Decimal(str(round(num,decpts))) for num in row] for row in mat]\n",
    "\n",
    "            matxRound(mat,decpts)\n",
    "            dec_test = [[Decimal(str(num)) for num in row] for row in mat]\n",
    "\n",
    "            res = Decimal('0')\n",
    "            for i in range(len(mat)):\n",
    "                for j in range(len(mat[0])):\n",
    "                    res += dec_test[i][j].compare_total(dec_true[i][j])\n",
    "\n",
    "            self.assertEqual(res,Decimal('0'))\n",
    "\n",
    "\n",
    "    def test_transpose(self):\n",
    "        for _ in range(10):\n",
    "            r,c = np.random.randint(low=1,high=25,size=2)\n",
    "            matrix = np.random.random((r,c))\n",
    "\n",
    "            mat = matrix.tolist()\n",
    "            t = np.array(transpose(mat))\n",
    "\n",
    "            self.assertEqual(t.shape,(c,r))\n",
    "            self.assertTrue((matrix.T == t).all())\n",
    "\n",
    "\n",
    "    def test_matxMultiply(self):\n",
    "\n",
    "        for _ in range(10):\n",
    "            r,d,c = np.random.randint(low=1,high=25,size=3)\n",
    "            mat1 = np.random.randint(low=-10,high=10,size=(r,d)) \n",
    "            mat2 = np.random.randint(low=-5,high=5,size=(d,c)) \n",
    "            dotProduct = np.dot(mat1,mat2)\n",
    "\n",
    "            dp = np.array(matxMultiply(mat1,mat2))\n",
    "\n",
    "            self.assertTrue((dotProduct == dp).all())\n",
    "\n",
    "\n",
    "    def test_augmentMatrix(self):\n",
    "\n",
    "        for _ in range(10):\n",
    "            r,c = np.random.randint(low=1,high=25,size=2)\n",
    "            A = np.random.randint(low=-10,high=10,size=(r,c))\n",
    "            b = np.random.randint(low=-10,high=10,size=(r,1))\n",
    "            Ab = np.array(augmentMatrix(A.tolist(),b.tolist()))\n",
    "            ab = np.hstack((A,b))\n",
    "\n",
    "            self.assertTrue((Ab == ab).all())\n",
    "\n",
    "    def test_swapRows(self):\n",
    "        for _ in range(10):\n",
    "            r,c = np.random.randint(low=1,high=25,size=2)\n",
    "            matrix = np.random.random((r,c))\n",
    "\n",
    "            mat = matrix.tolist()\n",
    "\n",
    "            r1, r2 = np.random.randint(0,r, size = 2)\n",
    "            swapRows(mat,r1,r2)\n",
    "\n",
    "            matrix[[r1,r2]] = matrix[[r2,r1]]\n",
    "\n",
    "            self.assertTrue((matrix == np.array(mat)).all())\n",
    "\n",
    "    def test_scaleRow(self):\n",
    "\n",
    "        for _ in range(10):\n",
    "            r,c = np.random.randint(low=1,high=25,size=2)\n",
    "            matrix = np.random.random((r,c))\n",
    "\n",
    "            mat = matrix.tolist()\n",
    "\n",
    "            rr = np.random.randint(0,r)\n",
    "            with self.assertRaises(ValueError):\n",
    "                scaleRow(mat,rr,0)\n",
    "\n",
    "            scale = np.random.randint(low=1,high=10)\n",
    "            scaleRow(mat,rr,scale)\n",
    "            matrix[rr] *= scale\n",
    "\n",
    "            self.assertTrue((matrix == np.array(mat)).all())\n",
    "    \n",
    "    def test_addScaleRow(self):\n",
    "\n",
    "        for _ in range(10):\n",
    "            r,c = np.random.randint(low=1,high=25,size=2)\n",
    "            matrix = np.random.random((r,c))\n",
    "\n",
    "            mat = matrix.tolist()\n",
    "\n",
    "            r1,r2 = np.random.randint(0,r,size=2)\n",
    "\n",
    "            scale = np.random.randint(low=1,high=10)\n",
    "            addScaledRow(mat,r1,r2,scale)\n",
    "            matrix[r1] += scale * matrix[r2]\n",
    "\n",
    "            self.assertTrue((matrix == np.array(mat)).all())\n",
    "\n",
    "\n",
    "    def test_gj_Solve(self):\n",
    "\n",
    "        for _ in range(10):\n",
    "            r = np.random.randint(low=3,high=10)\n",
    "            A = np.random.randint(low=-10,high=10,size=(r,r))\n",
    "            b = np.arange(r).reshape((r,1))\n",
    "\n",
    "            x = gj_Solve(A.tolist(),b.tolist())\n",
    "            if np.linalg.matrix_rank(A) < r:\n",
    "                self.assertEqual(x,None)\n",
    "            else:\n",
    "                # Ax = matxMultiply(A.tolist(),x)\n",
    "                Ax = np.dot(A,np.array(x))\n",
    "                loss = np.mean((Ax - b)**2)\n",
    "                # print (Ax)\n",
    "                # print(loss)\n",
    "                self.assertTrue(loss<0.1)\n",
    "\n",
    "\n",
    "suite = unittest.TestLoader().loadTestsFromTestCase(LinearRegressionTestCase)\n",
    "unittest.TextTestRunner(verbosity=3).run(suite)"
   ]
  },
  {
   "cell_type": "code",
   "execution_count": null,
   "metadata": {
    "collapsed": true
   },
   "outputs": [],
   "source": []
  },
  {
   "cell_type": "code",
   "execution_count": null,
   "metadata": {
    "collapsed": true
   },
   "outputs": [],
   "source": []
  }
 ],
 "metadata": {
  "anaconda-cloud": {},
  "celltoolbar": "Raw Cell Format",
  "kernelspec": {
   "display_name": "Python 3",
   "language": "python",
   "name": "python3"
  },
  "language_info": {
   "codemirror_mode": {
    "name": "ipython",
    "version": 3
   },
   "file_extension": ".py",
   "mimetype": "text/x-python",
   "name": "python",
   "nbconvert_exporter": "python",
   "pygments_lexer": "ipython3",
   "version": "3.6.1"
  }
 },
 "nbformat": 4,
 "nbformat_minor": 2
}
